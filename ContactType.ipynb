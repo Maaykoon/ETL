{
 "cells": [
  {
   "cell_type": "code",
   "execution_count": 3,
   "id": "bcdcfb49",
   "metadata": {},
   "outputs": [],
   "source": [
    "import pandas as pd\n",
    "from sqlalchemy import create_engine"
   ]
  },
  {
   "cell_type": "code",
   "execution_count": 4,
   "id": "30e0859c",
   "metadata": {},
   "outputs": [
    {
     "name": "stderr",
     "output_type": "stream",
     "text": [
      "C:\\Users\\Maykon\\AppData\\Local\\Temp/ipykernel_8120/4163926374.py:5: SAWarning: No driver name specified; this is expected by PyODBC when using DSN-less connections\n",
      "  engine_destino = create_engine('mssql+pyodbc://'+user+':'+password+'@'+server+'/'+db+'?Driver={SQL SERVER}')\n"
     ]
    }
   ],
   "source": [
    "user = '*********'\n",
    "password = '********'\n",
    "server = '**************'\n",
    "db = '*********'\n",
    "engine_destino = create_engine('mssql+pyodbc://'+user+':'+password+'@'+server+'/'+db+'?Driver={SQL SERVER}')"
   ]
  },
  {
   "cell_type": "code",
   "execution_count": 5,
   "id": "90fb6841",
   "metadata": {},
   "outputs": [
    {
     "name": "stderr",
     "output_type": "stream",
     "text": [
      "C:\\Users\\Maykon\\AppData\\Local\\Temp/ipykernel_8120/3455220355.py:5: SAWarning: No driver name specified; this is expected by PyODBC when using DSN-less connections\n",
      "  engine_origem = create_engine('mssql+pyodbc://'+user+':'+password+'@'+server+'/'+db+'?Driver={SQL SERVER}')\n"
     ]
    }
   ],
   "source": [
    "user = 'sa'\n",
    "password = 'Genius01*10'\n",
    "server = 'DESKTOP-852KOCR\\SQLEXPRESS'\n",
    "db = 'AdventureWorks2019'\n",
    "engine_origem = create_engine('mssql+pyodbc://'+user+':'+password+'@'+server+'/'+db+'?Driver={SQL SERVER}')"
   ]
  },
  {
   "cell_type": "code",
   "execution_count": 6,
   "id": "23a1d30a",
   "metadata": {},
   "outputs": [],
   "source": [
    "sql = \"SELECT * FROM Person.ContactType\""
   ]
  },
  {
   "cell_type": "code",
   "execution_count": 7,
   "id": "7515ab8d",
   "metadata": {},
   "outputs": [],
   "source": [
    "df_ctype = pd.read_sql(sql,con = engine_origem)"
   ]
  },
  {
   "cell_type": "code",
   "execution_count": 8,
   "id": "6452eeae",
   "metadata": {},
   "outputs": [],
   "source": [
    "df_ctype.to_sql('CONTACTTYPE', con=engine_destino, index=False, if_exists='replace')"
   ]
  },
  {
   "cell_type": "code",
   "execution_count": 9,
   "id": "d59c9d6e",
   "metadata": {},
   "outputs": [
    {
     "data": {
      "text/html": [
       "<div>\n",
       "<style scoped>\n",
       "    .dataframe tbody tr th:only-of-type {\n",
       "        vertical-align: middle;\n",
       "    }\n",
       "\n",
       "    .dataframe tbody tr th {\n",
       "        vertical-align: top;\n",
       "    }\n",
       "\n",
       "    .dataframe thead th {\n",
       "        text-align: right;\n",
       "    }\n",
       "</style>\n",
       "<table border=\"1\" class=\"dataframe\">\n",
       "  <thead>\n",
       "    <tr style=\"text-align: right;\">\n",
       "      <th></th>\n",
       "      <th>ContactTypeID</th>\n",
       "      <th>Name</th>\n",
       "      <th>ModifiedDate</th>\n",
       "    </tr>\n",
       "  </thead>\n",
       "  <tbody>\n",
       "    <tr>\n",
       "      <th>0</th>\n",
       "      <td>1</td>\n",
       "      <td>Accounting Manager</td>\n",
       "      <td>2008-04-30</td>\n",
       "    </tr>\n",
       "    <tr>\n",
       "      <th>1</th>\n",
       "      <td>2</td>\n",
       "      <td>Assistant Sales Agent</td>\n",
       "      <td>2008-04-30</td>\n",
       "    </tr>\n",
       "    <tr>\n",
       "      <th>2</th>\n",
       "      <td>3</td>\n",
       "      <td>Assistant Sales Representative</td>\n",
       "      <td>2008-04-30</td>\n",
       "    </tr>\n",
       "    <tr>\n",
       "      <th>3</th>\n",
       "      <td>4</td>\n",
       "      <td>Coordinator Foreign Markets</td>\n",
       "      <td>2008-04-30</td>\n",
       "    </tr>\n",
       "    <tr>\n",
       "      <th>4</th>\n",
       "      <td>5</td>\n",
       "      <td>Export Administrator</td>\n",
       "      <td>2008-04-30</td>\n",
       "    </tr>\n",
       "    <tr>\n",
       "      <th>5</th>\n",
       "      <td>6</td>\n",
       "      <td>International Marketing Manager</td>\n",
       "      <td>2008-04-30</td>\n",
       "    </tr>\n",
       "    <tr>\n",
       "      <th>6</th>\n",
       "      <td>7</td>\n",
       "      <td>Marketing Assistant</td>\n",
       "      <td>2008-04-30</td>\n",
       "    </tr>\n",
       "    <tr>\n",
       "      <th>7</th>\n",
       "      <td>8</td>\n",
       "      <td>Marketing Manager</td>\n",
       "      <td>2008-04-30</td>\n",
       "    </tr>\n",
       "    <tr>\n",
       "      <th>8</th>\n",
       "      <td>9</td>\n",
       "      <td>Marketing Representative</td>\n",
       "      <td>2008-04-30</td>\n",
       "    </tr>\n",
       "    <tr>\n",
       "      <th>9</th>\n",
       "      <td>10</td>\n",
       "      <td>Order Administrator</td>\n",
       "      <td>2008-04-30</td>\n",
       "    </tr>\n",
       "    <tr>\n",
       "      <th>10</th>\n",
       "      <td>11</td>\n",
       "      <td>Owner</td>\n",
       "      <td>2008-04-30</td>\n",
       "    </tr>\n",
       "    <tr>\n",
       "      <th>11</th>\n",
       "      <td>12</td>\n",
       "      <td>Owner/Marketing Assistant</td>\n",
       "      <td>2008-04-30</td>\n",
       "    </tr>\n",
       "    <tr>\n",
       "      <th>12</th>\n",
       "      <td>13</td>\n",
       "      <td>Product Manager</td>\n",
       "      <td>2008-04-30</td>\n",
       "    </tr>\n",
       "    <tr>\n",
       "      <th>13</th>\n",
       "      <td>14</td>\n",
       "      <td>Purchasing Agent</td>\n",
       "      <td>2008-04-30</td>\n",
       "    </tr>\n",
       "    <tr>\n",
       "      <th>14</th>\n",
       "      <td>15</td>\n",
       "      <td>Purchasing Manager</td>\n",
       "      <td>2008-04-30</td>\n",
       "    </tr>\n",
       "    <tr>\n",
       "      <th>15</th>\n",
       "      <td>16</td>\n",
       "      <td>Regional Account Representative</td>\n",
       "      <td>2008-04-30</td>\n",
       "    </tr>\n",
       "    <tr>\n",
       "      <th>16</th>\n",
       "      <td>17</td>\n",
       "      <td>Sales Agent</td>\n",
       "      <td>2008-04-30</td>\n",
       "    </tr>\n",
       "    <tr>\n",
       "      <th>17</th>\n",
       "      <td>18</td>\n",
       "      <td>Sales Associate</td>\n",
       "      <td>2008-04-30</td>\n",
       "    </tr>\n",
       "    <tr>\n",
       "      <th>18</th>\n",
       "      <td>19</td>\n",
       "      <td>Sales Manager</td>\n",
       "      <td>2008-04-30</td>\n",
       "    </tr>\n",
       "    <tr>\n",
       "      <th>19</th>\n",
       "      <td>20</td>\n",
       "      <td>Sales Representative</td>\n",
       "      <td>2008-04-30</td>\n",
       "    </tr>\n",
       "  </tbody>\n",
       "</table>\n",
       "</div>"
      ],
      "text/plain": [
       "    ContactTypeID                             Name ModifiedDate\n",
       "0               1               Accounting Manager   2008-04-30\n",
       "1               2            Assistant Sales Agent   2008-04-30\n",
       "2               3   Assistant Sales Representative   2008-04-30\n",
       "3               4      Coordinator Foreign Markets   2008-04-30\n",
       "4               5             Export Administrator   2008-04-30\n",
       "5               6  International Marketing Manager   2008-04-30\n",
       "6               7              Marketing Assistant   2008-04-30\n",
       "7               8                Marketing Manager   2008-04-30\n",
       "8               9         Marketing Representative   2008-04-30\n",
       "9              10              Order Administrator   2008-04-30\n",
       "10             11                            Owner   2008-04-30\n",
       "11             12        Owner/Marketing Assistant   2008-04-30\n",
       "12             13                  Product Manager   2008-04-30\n",
       "13             14                 Purchasing Agent   2008-04-30\n",
       "14             15               Purchasing Manager   2008-04-30\n",
       "15             16  Regional Account Representative   2008-04-30\n",
       "16             17                      Sales Agent   2008-04-30\n",
       "17             18                  Sales Associate   2008-04-30\n",
       "18             19                    Sales Manager   2008-04-30\n",
       "19             20             Sales Representative   2008-04-30"
      ]
     },
     "execution_count": 9,
     "metadata": {},
     "output_type": "execute_result"
    }
   ],
   "source": [
    "df_ctype"
   ]
  },
  {
   "cell_type": "code",
   "execution_count": null,
   "id": "9092ba5b",
   "metadata": {},
   "outputs": [],
   "source": []
  }
 ],
 "metadata": {
  "kernelspec": {
   "display_name": "Python 3 (ipykernel)",
   "language": "python",
   "name": "python3"
  },
  "language_info": {
   "codemirror_mode": {
    "name": "ipython",
    "version": 3
   },
   "file_extension": ".py",
   "mimetype": "text/x-python",
   "name": "python",
   "nbconvert_exporter": "python",
   "pygments_lexer": "ipython3",
   "version": "3.9.7"
  }
 },
 "nbformat": 4,
 "nbformat_minor": 5
}

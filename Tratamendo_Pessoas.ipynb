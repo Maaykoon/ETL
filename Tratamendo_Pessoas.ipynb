{
 "cells": [
  {
   "cell_type": "code",
   "execution_count": 2,
   "id": "03fc95fe",
   "metadata": {},
   "outputs": [],
   "source": [
    "import pandas as pd\n",
    "from sqlalchemy import create_engine\n",
    "from pandasql import sqldf"
   ]
  },
  {
   "cell_type": "code",
   "execution_count": 3,
   "id": "8cf1be24",
   "metadata": {},
   "outputs": [
    {
     "name": "stderr",
     "output_type": "stream",
     "text": [
      "C:\\Users\\Maykon\\AppData\\Local\\Temp/ipykernel_6268/2548603454.py:5: SAWarning: No driver name specified; this is expected by PyODBC when using DSN-less connections\n",
      "  conexao = create_engine('mssql+pyodbc://'+user+':'+password+'@'+server+'/'+db+'?Driver={SQL SERVER}')\n"
     ]
    }
   ],
   "source": [
    "user = 'sa'\n",
    "password = 'Genius01*10'\n",
    "server = 'DESKTOP-852KOCR\\SQLEXPRESS'\n",
    "db = 'sistema'\n",
    "conexao = create_engine('mssql+pyodbc://'+user+':'+password+'@'+server+'/'+db+'?Driver={SQL SERVER}')"
   ]
  },
  {
   "cell_type": "code",
   "execution_count": 4,
   "id": "1a221ea1",
   "metadata": {},
   "outputs": [],
   "source": [
    "sql_cliente = \"\"\"SELECT BusinessEntityID\n",
    "      ,PersonType\n",
    "      ,NameStyle\n",
    "      ,Title\n",
    "      ,FirstName\n",
    "      ,MiddleName\n",
    "      ,LastName\n",
    "      ,Suffix\n",
    "      ,EmailPromotion\n",
    "      ,AdditionalContactInfo\n",
    "      ,rowguid\n",
    "      ,ModifiedDate\n",
    "  FROM dbo.PESSOA\n",
    "\"\"\""
   ]
  },
  {
   "cell_type": "code",
   "execution_count": 5,
   "id": "d28d7571",
   "metadata": {},
   "outputs": [],
   "source": [
    "df_cliente = pd.read_sql(sql_cliente,con = conexao)"
   ]
  },
  {
   "cell_type": "code",
   "execution_count": 6,
   "id": "f1a1ea7a",
   "metadata": {},
   "outputs": [],
   "source": [
    "sql_endereco = \"\"\"Select * from endereco\"\"\""
   ]
  },
  {
   "cell_type": "code",
   "execution_count": 7,
   "id": "a38e7c8c",
   "metadata": {},
   "outputs": [],
   "source": [
    "df_endereco = pd.read_sql(sql_endereco,con = conexao)"
   ]
  },
  {
   "cell_type": "code",
   "execution_count": 8,
   "id": "5a98edca",
   "metadata": {},
   "outputs": [],
   "source": [
    "sql_personstate = \"\"\"select * from personstate\"\"\""
   ]
  },
  {
   "cell_type": "code",
   "execution_count": 9,
   "id": "4b7b98cf",
   "metadata": {},
   "outputs": [],
   "source": [
    "df_personstate = pd.read_sql(sql_personstate,con = conexao)"
   ]
  },
  {
   "cell_type": "code",
   "execution_count": 10,
   "id": "cf0b9285",
   "metadata": {},
   "outputs": [],
   "source": [
    "sql_tipocontato = \"\"\"Select * FROM CONTACTTYPE\"\"\""
   ]
  },
  {
   "cell_type": "code",
   "execution_count": 11,
   "id": "d7649d27",
   "metadata": {},
   "outputs": [],
   "source": [
    "df_tipocontato = pd.read_sql(sql_tipocontato,con = conexao)"
   ]
  },
  {
   "cell_type": "code",
   "execution_count": 12,
   "id": "791eeefd",
   "metadata": {},
   "outputs": [],
   "source": [
    "sql_entity = \"\"\"Select * FROM ENTITY\"\"\""
   ]
  },
  {
   "cell_type": "code",
   "execution_count": 13,
   "id": "c0a05b6e",
   "metadata": {},
   "outputs": [],
   "source": [
    "df_entity = pd.read_sql(sql_entity,con = conexao)"
   ]
  },
  {
   "cell_type": "code",
   "execution_count": 14,
   "id": "8365a5c8",
   "metadata": {},
   "outputs": [],
   "source": [
    "sql_entityadress = \"\"\"Select * FROM ENTITYADRESS\"\"\""
   ]
  },
  {
   "cell_type": "code",
   "execution_count": 15,
   "id": "c4a47c45",
   "metadata": {},
   "outputs": [],
   "source": [
    "df_entityadress = pd.read_sql(sql_entityadress,con = conexao)"
   ]
  },
  {
   "cell_type": "code",
   "execution_count": 16,
   "id": "cb379e9f",
   "metadata": {},
   "outputs": [],
   "source": [
    "sql_entitycontact = \"\"\"Select * FROM ENTITYCONTACT\"\"\""
   ]
  },
  {
   "cell_type": "code",
   "execution_count": 17,
   "id": "e5d91c3c",
   "metadata": {},
   "outputs": [],
   "source": [
    "df_entitycontact = pd.read_sql(sql_entitycontact,con = conexao)"
   ]
  },
  {
   "cell_type": "code",
   "execution_count": 18,
   "id": "6c50ebb6",
   "metadata": {},
   "outputs": [],
   "source": [
    "df_cliente = sqldf(\"\"\"select * from df_cliente c\n",
    "                       inner join df_entityadress a\n",
    "                       on a.BusinessEntityID = c.BusinessEntityID\n",
    "                        inner join df_endereco e\n",
    "                        on e.AddressID = a.AddressID\n",
    "                   \"\"\")"
   ]
  },
  {
   "cell_type": "code",
   "execution_count": 19,
   "id": "542a3940",
   "metadata": {},
   "outputs": [],
   "source": [
    "df_cliente = sqldf(\"\"\"select *  from df_cliente c\n",
    "                        inner join df_entity en\n",
    "                        on en.BusinessEntityID = c.BusinessEntityID\n",
    "                   \"\"\")"
   ]
  },
  {
   "cell_type": "code",
   "execution_count": 20,
   "id": "476fc433",
   "metadata": {},
   "outputs": [],
   "source": [
    "df_cliente = sqldf(\"\"\" select *  from df_cliente c\n",
    "                        inner join df_personstate p\n",
    "                        on p.StateProvinceID = c.StateProvinceID\n",
    "                   \"\"\")"
   ]
  },
  {
   "cell_type": "code",
   "execution_count": 21,
   "id": "f8593731",
   "metadata": {},
   "outputs": [],
   "source": [
    "del df_personstate"
   ]
  },
  {
   "cell_type": "code",
   "execution_count": 22,
   "id": "53226aa0",
   "metadata": {},
   "outputs": [],
   "source": [
    "del df_tipocontato"
   ]
  },
  {
   "cell_type": "code",
   "execution_count": 23,
   "id": "4a624085",
   "metadata": {},
   "outputs": [],
   "source": [
    "del df_entitycontact"
   ]
  },
  {
   "cell_type": "code",
   "execution_count": 24,
   "id": "6e363020",
   "metadata": {},
   "outputs": [],
   "source": [
    "del df_entity"
   ]
  },
  {
   "cell_type": "code",
   "execution_count": 25,
   "id": "60d1bbe4",
   "metadata": {},
   "outputs": [],
   "source": [
    "del df_entityadress"
   ]
  },
  {
   "cell_type": "code",
   "execution_count": 26,
   "id": "f6d0c33a",
   "metadata": {},
   "outputs": [],
   "source": [
    "df_cliente = df_cliente[['FirstName','LastName','PostalCode','Name','CountryRegionCode']]"
   ]
  },
  {
   "cell_type": "code",
   "execution_count": 27,
   "id": "67612a4a",
   "metadata": {},
   "outputs": [],
   "source": [
    "df_cliente = df_cliente.rename(columns= {'Name':'CIDADE','FirstName':'NOME','LastName':'SOBRENOME','PostalCode':'CEP','CountryRegionCode':'CodigoRegional'})"
   ]
  },
  {
   "cell_type": "code",
   "execution_count": 28,
   "id": "fe44b079",
   "metadata": {},
   "outputs": [],
   "source": [
    "df_cliente['NOME'] = df_cliente['NOME'].str.upper()\n",
    "df_cliente['SOBRENOME'] = df_cliente['SOBRENOME'].str.upper()\n",
    "df_cliente['CIDADE'] = df_cliente['CIDADE'].str.upper()"
   ]
  },
  {
   "cell_type": "code",
   "execution_count": 29,
   "id": "d25392b5",
   "metadata": {
    "scrolled": true
   },
   "outputs": [
    {
     "data": {
      "text/html": [
       "<div>\n",
       "<style scoped>\n",
       "    .dataframe tbody tr th:only-of-type {\n",
       "        vertical-align: middle;\n",
       "    }\n",
       "\n",
       "    .dataframe tbody tr th {\n",
       "        vertical-align: top;\n",
       "    }\n",
       "\n",
       "    .dataframe thead th {\n",
       "        text-align: right;\n",
       "    }\n",
       "</style>\n",
       "<table border=\"1\" class=\"dataframe\">\n",
       "  <thead>\n",
       "    <tr style=\"text-align: right;\">\n",
       "      <th></th>\n",
       "      <th>NOME</th>\n",
       "      <th>SOBRENOME</th>\n",
       "      <th>CEP</th>\n",
       "      <th>CIDADE</th>\n",
       "      <th>CodigoRegional</th>\n",
       "    </tr>\n",
       "  </thead>\n",
       "  <tbody>\n",
       "    <tr>\n",
       "      <th>0</th>\n",
       "      <td>KEN</td>\n",
       "      <td>SÁNCHEZ</td>\n",
       "      <td>98006</td>\n",
       "      <td>WASHINGTON</td>\n",
       "      <td>US</td>\n",
       "    </tr>\n",
       "    <tr>\n",
       "      <th>1</th>\n",
       "      <td>TERRI</td>\n",
       "      <td>DUFFY</td>\n",
       "      <td>98055</td>\n",
       "      <td>WASHINGTON</td>\n",
       "      <td>US</td>\n",
       "    </tr>\n",
       "    <tr>\n",
       "      <th>2</th>\n",
       "      <td>ROBERTO</td>\n",
       "      <td>TAMBURELLO</td>\n",
       "      <td>98052</td>\n",
       "      <td>WASHINGTON</td>\n",
       "      <td>US</td>\n",
       "    </tr>\n",
       "    <tr>\n",
       "      <th>3</th>\n",
       "      <td>ROB</td>\n",
       "      <td>WALTERS</td>\n",
       "      <td>55402</td>\n",
       "      <td>MINNESOTA</td>\n",
       "      <td>US</td>\n",
       "    </tr>\n",
       "    <tr>\n",
       "      <th>4</th>\n",
       "      <td>GAIL</td>\n",
       "      <td>ERICKSON</td>\n",
       "      <td>98004</td>\n",
       "      <td>WASHINGTON</td>\n",
       "      <td>US</td>\n",
       "    </tr>\n",
       "    <tr>\n",
       "      <th>...</th>\n",
       "      <td>...</td>\n",
       "      <td>...</td>\n",
       "      <td>...</td>\n",
       "      <td>...</td>\n",
       "      <td>...</td>\n",
       "    </tr>\n",
       "    <tr>\n",
       "      <th>18793</th>\n",
       "      <td>CRYSTAL</td>\n",
       "      <td>GUO</td>\n",
       "      <td>BD1 4SJ</td>\n",
       "      <td>ENGLAND</td>\n",
       "      <td>GB</td>\n",
       "    </tr>\n",
       "    <tr>\n",
       "      <th>18794</th>\n",
       "      <td>ISABELLA</td>\n",
       "      <td>RICHARDSON</td>\n",
       "      <td>90505</td>\n",
       "      <td>CALIFORNIA</td>\n",
       "      <td>US</td>\n",
       "    </tr>\n",
       "    <tr>\n",
       "      <th>18795</th>\n",
       "      <td>CRYSTAL</td>\n",
       "      <td>HE</td>\n",
       "      <td>98312</td>\n",
       "      <td>WASHINGTON</td>\n",
       "      <td>US</td>\n",
       "    </tr>\n",
       "    <tr>\n",
       "      <th>18796</th>\n",
       "      <td>CRYSTAL</td>\n",
       "      <td>ZHENG</td>\n",
       "      <td>78000</td>\n",
       "      <td>YVELINE</td>\n",
       "      <td>FR</td>\n",
       "    </tr>\n",
       "    <tr>\n",
       "      <th>18797</th>\n",
       "      <td>CRYSTAL</td>\n",
       "      <td>HU</td>\n",
       "      <td>2010</td>\n",
       "      <td>NEW SOUTH WALES</td>\n",
       "      <td>AU</td>\n",
       "    </tr>\n",
       "  </tbody>\n",
       "</table>\n",
       "<p>18798 rows × 5 columns</p>\n",
       "</div>"
      ],
      "text/plain": [
       "           NOME   SOBRENOME      CEP           CIDADE CodigoRegional\n",
       "0           KEN     SÁNCHEZ    98006       WASHINGTON             US\n",
       "1         TERRI       DUFFY    98055       WASHINGTON             US\n",
       "2       ROBERTO  TAMBURELLO    98052       WASHINGTON             US\n",
       "3           ROB     WALTERS    55402        MINNESOTA             US\n",
       "4          GAIL    ERICKSON    98004       WASHINGTON             US\n",
       "...         ...         ...      ...              ...            ...\n",
       "18793   CRYSTAL         GUO  BD1 4SJ          ENGLAND             GB\n",
       "18794  ISABELLA  RICHARDSON    90505       CALIFORNIA             US\n",
       "18795   CRYSTAL          HE    98312       WASHINGTON             US\n",
       "18796   CRYSTAL       ZHENG    78000          YVELINE             FR\n",
       "18797   CRYSTAL          HU     2010  NEW SOUTH WALES             AU\n",
       "\n",
       "[18798 rows x 5 columns]"
      ]
     },
     "execution_count": 29,
     "metadata": {},
     "output_type": "execute_result"
    }
   ],
   "source": [
    "df_cliente"
   ]
  },
  {
   "cell_type": "code",
   "execution_count": null,
   "id": "102696be",
   "metadata": {},
   "outputs": [],
   "source": []
  }
 ],
 "metadata": {
  "kernelspec": {
   "display_name": "Python 3 (ipykernel)",
   "language": "python",
   "name": "python3"
  },
  "language_info": {
   "codemirror_mode": {
    "name": "ipython",
    "version": 3
   },
   "file_extension": ".py",
   "mimetype": "text/x-python",
   "name": "python",
   "nbconvert_exporter": "python",
   "pygments_lexer": "ipython3",
   "version": "3.9.7"
  }
 },
 "nbformat": 4,
 "nbformat_minor": 5
}

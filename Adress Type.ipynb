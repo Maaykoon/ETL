{
 "cells": [
  {
   "cell_type": "code",
   "execution_count": 1,
   "id": "0f22493e",
   "metadata": {},
   "outputs": [],
   "source": [
    "import pandas as pd\n",
    "from sqlalchemy import create_engine"
   ]
  },
  {
   "cell_type": "code",
   "execution_count": 2,
   "id": "80079914",
   "metadata": {},
   "outputs": [
    {
     "name": "stderr",
     "output_type": "stream",
     "text": [
      "C:\\Users\\Maykon\\AppData\\Local\\Temp/ipykernel_7504/4163926374.py:5: SAWarning: No driver name specified; this is expected by PyODBC when using DSN-less connections\n",
      "  engine_destino = create_engine('mssql+pyodbc://'+user+':'+password+'@'+server+'/'+db+'?Driver={SQL SERVER}')\n"
     ]
    }
   ],
   "source": [
    "user = 'sa'\n",
    "password = '********'\n",
    "server = '**********'\n",
    "db = 'sistema'\n",
    "engine_destino = create_engine('mssql+pyodbc://'+user+':'+password+'@'+server+'/'+db+'?Driver={SQL SERVER}')"
   ]
  },
  {
   "cell_type": "code",
   "execution_count": 3,
   "id": "d27d6d96",
   "metadata": {},
   "outputs": [
    {
     "name": "stderr",
     "output_type": "stream",
     "text": [
      "C:\\Users\\Maykon\\AppData\\Local\\Temp/ipykernel_7504/3455220355.py:5: SAWarning: No driver name specified; this is expected by PyODBC when using DSN-less connections\n",
      "  engine_origem = create_engine('mssql+pyodbc://'+user+':'+password+'@'+server+'/'+db+'?Driver={SQL SERVER}')\n"
     ]
    }
   ],
   "source": [
    "user = 'sa'\n",
    "password = 'Genius01*10'\n",
    "server = 'DESKTOP-852KOCR\\SQLEXPRESS'\n",
    "db = 'AdventureWorks2019'\n",
    "engine_origem = create_engine('mssql+pyodbc://'+user+':'+password+'@'+server+'/'+db+'?Driver={SQL SERVER}')"
   ]
  },
  {
   "cell_type": "code",
   "execution_count": 4,
   "id": "34590eef",
   "metadata": {},
   "outputs": [],
   "source": [
    "sql = \"select * from Person.AddressType\""
   ]
  },
  {
   "cell_type": "code",
   "execution_count": 5,
   "id": "167b815b",
   "metadata": {},
   "outputs": [],
   "source": [
    "df_tipopessoas = pd.read_sql(sql,con = engine_origem)"
   ]
  },
  {
   "cell_type": "code",
   "execution_count": 6,
   "id": "adf5632e",
   "metadata": {},
   "outputs": [],
   "source": [
    "df_tipopessoas.to_sql('TIPOPESSOAS', con=engine_destino, index=False, if_exists='replace')"
   ]
  },
  {
   "cell_type": "code",
   "execution_count": 7,
   "id": "208c7b19",
   "metadata": {},
   "outputs": [
    {
     "data": {
      "text/html": [
       "<div>\n",
       "<style scoped>\n",
       "    .dataframe tbody tr th:only-of-type {\n",
       "        vertical-align: middle;\n",
       "    }\n",
       "\n",
       "    .dataframe tbody tr th {\n",
       "        vertical-align: top;\n",
       "    }\n",
       "\n",
       "    .dataframe thead th {\n",
       "        text-align: right;\n",
       "    }\n",
       "</style>\n",
       "<table border=\"1\" class=\"dataframe\">\n",
       "  <thead>\n",
       "    <tr style=\"text-align: right;\">\n",
       "      <th></th>\n",
       "      <th>AddressTypeID</th>\n",
       "      <th>Name</th>\n",
       "      <th>rowguid</th>\n",
       "      <th>ModifiedDate</th>\n",
       "    </tr>\n",
       "  </thead>\n",
       "  <tbody>\n",
       "    <tr>\n",
       "      <th>0</th>\n",
       "      <td>1</td>\n",
       "      <td>Billing</td>\n",
       "      <td>B84F78B1-4EFE-4A0E-8CB7-70E9F112F886</td>\n",
       "      <td>2008-04-30</td>\n",
       "    </tr>\n",
       "    <tr>\n",
       "      <th>1</th>\n",
       "      <td>2</td>\n",
       "      <td>Home</td>\n",
       "      <td>41BC2FF6-F0FC-475F-8EB9-CEC0805AA0F2</td>\n",
       "      <td>2008-04-30</td>\n",
       "    </tr>\n",
       "    <tr>\n",
       "      <th>2</th>\n",
       "      <td>3</td>\n",
       "      <td>Main Office</td>\n",
       "      <td>8EEEC28C-07A2-4FB9-AD0A-42D4A0BBC575</td>\n",
       "      <td>2008-04-30</td>\n",
       "    </tr>\n",
       "    <tr>\n",
       "      <th>3</th>\n",
       "      <td>4</td>\n",
       "      <td>Primary</td>\n",
       "      <td>24CB3088-4345-47C4-86C5-17B535133D1E</td>\n",
       "      <td>2008-04-30</td>\n",
       "    </tr>\n",
       "    <tr>\n",
       "      <th>4</th>\n",
       "      <td>5</td>\n",
       "      <td>Shipping</td>\n",
       "      <td>B29DA3F8-19A3-47DA-9DAA-15C84F4A83A5</td>\n",
       "      <td>2008-04-30</td>\n",
       "    </tr>\n",
       "    <tr>\n",
       "      <th>5</th>\n",
       "      <td>6</td>\n",
       "      <td>Archive</td>\n",
       "      <td>A67F238A-5BA2-444B-966C-0467ED9C427F</td>\n",
       "      <td>2008-04-30</td>\n",
       "    </tr>\n",
       "  </tbody>\n",
       "</table>\n",
       "</div>"
      ],
      "text/plain": [
       "   AddressTypeID         Name                               rowguid  \\\n",
       "0              1      Billing  B84F78B1-4EFE-4A0E-8CB7-70E9F112F886   \n",
       "1              2         Home  41BC2FF6-F0FC-475F-8EB9-CEC0805AA0F2   \n",
       "2              3  Main Office  8EEEC28C-07A2-4FB9-AD0A-42D4A0BBC575   \n",
       "3              4      Primary  24CB3088-4345-47C4-86C5-17B535133D1E   \n",
       "4              5     Shipping  B29DA3F8-19A3-47DA-9DAA-15C84F4A83A5   \n",
       "5              6      Archive  A67F238A-5BA2-444B-966C-0467ED9C427F   \n",
       "\n",
       "  ModifiedDate  \n",
       "0   2008-04-30  \n",
       "1   2008-04-30  \n",
       "2   2008-04-30  \n",
       "3   2008-04-30  \n",
       "4   2008-04-30  \n",
       "5   2008-04-30  "
      ]
     },
     "execution_count": 7,
     "metadata": {},
     "output_type": "execute_result"
    }
   ],
   "source": [
    "df_tipopessoas"
   ]
  },
  {
   "cell_type": "code",
   "execution_count": null,
   "id": "ad563ce7",
   "metadata": {},
   "outputs": [],
   "source": []
  },
  {
   "cell_type": "code",
   "execution_count": null,
   "id": "2be1a010",
   "metadata": {},
   "outputs": [],
   "source": []
  }
 ],
 "metadata": {
  "kernelspec": {
   "display_name": "Python 3 (ipykernel)",
   "language": "python",
   "name": "python3"
  },
  "language_info": {
   "codemirror_mode": {
    "name": "ipython",
    "version": 3
   },
   "file_extension": ".py",
   "mimetype": "text/x-python",
   "name": "python",
   "nbconvert_exporter": "python",
   "pygments_lexer": "ipython3",
   "version": "3.9.7"
  }
 },
 "nbformat": 4,
 "nbformat_minor": 5
}

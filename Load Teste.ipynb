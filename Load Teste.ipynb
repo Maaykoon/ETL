{
 "cells": [
  {
   "cell_type": "code",
   "execution_count": 23,
   "id": "69bb33f1",
   "metadata": {},
   "outputs": [],
   "source": [
    "import pandas as pd\n",
    "import pyodbc\n",
    "from sqlalchemy import create_engine\n",
    "from pandasql import sqldf"
   ]
  },
  {
   "cell_type": "code",
   "execution_count": 30,
   "id": "353167b6",
   "metadata": {},
   "outputs": [
    {
     "name": "stderr",
     "output_type": "stream",
     "text": [
      "C:\\Users\\Maykon\\AppData\\Local\\Temp/ipykernel_5192/2548603454.py:5: SAWarning: No driver name specified; this is expected by PyODBC when using DSN-less connections\n",
      "  conexao = create_engine('mssql+pyodbc://'+user+':'+password+'@'+server+'/'+db+'?Driver={SQL SERVER}')\n"
     ]
    }
   ],
   "source": [
    "user = 'sa'\n",
    "password = '**********",
    "server = '**********'\n",
    "db = 'sistema'\n",
    "conexao = create_engine('mssql+pyodbc://'+user+':'+password+'@'+server+'/'+db+'?Driver={SQL SERVER}')"
   ]
  },
  {
   "cell_type": "code",
   "execution_count": 31,
   "id": "d6da3e31",
   "metadata": {},
   "outputs": [],
   "source": [
    "df = pd.read_sql_query(\"select * from dbo.pessoa\", con = conexao)"
   ]
  },
  {
   "cell_type": "code",
   "execution_count": 34,
   "id": "f4ff0623",
   "metadata": {},
   "outputs": [],
   "source": [
    "df.to_sql('DADOS_LOAD', con=conexao, index=False, if_exists='append')"
   ]
  },
  {
   "cell_type": "code",
   "execution_count": null,
   "id": "30f09df9",
   "metadata": {},
   "outputs": [],
   "source": []
  }
 ],
 "metadata": {
  "kernelspec": {
   "display_name": "Python 3 (ipykernel)",
   "language": "python",
   "name": "python3"
  },
  "language_info": {
   "codemirror_mode": {
    "name": "ipython",
    "version": 3
   },
   "file_extension": ".py",
   "mimetype": "text/x-python",
   "name": "python",
   "nbconvert_exporter": "python",
   "pygments_lexer": "ipython3",
   "version": "3.9.7"
  }
 },
 "nbformat": 4,
 "nbformat_minor": 5
}

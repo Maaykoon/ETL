{
 "cells": [
  {
   "cell_type": "code",
   "execution_count": 2,
   "id": "cbc086b3",
   "metadata": {},
   "outputs": [],
   "source": [
    "import pandas as pd\n",
    "from sqlalchemy import create_engine\n",
    "from pandasql import sqldf"
   ]
  },
  {
   "cell_type": "code",
   "execution_count": 3,
   "id": "9b7c2ecf",
   "metadata": {
    "scrolled": true
   },
   "outputs": [
    {
     "name": "stderr",
     "output_type": "stream",
     "text": [
      "C:\\Users\\Maykon\\AppData\\Local\\Temp/ipykernel_10468/2548603454.py:5: SAWarning: No driver name specified; this is expected by PyODBC when using DSN-less connections\n",
      "  conexao = create_engine('mssql+pyodbc://'+user+':'+password+'@'+server+'/'+db+'?Driver={SQL SERVER}')\n"
     ]
    }
   ],
   "source": [
    "user = 'sa'\n",
    "password = '*****************'\n",
    "server = '*******************'\n",
    "db = 'sistema'\n",
    "conexao = create_engine('mssql+pyodbc://'+user+':'+password+'@'+server+'/'+db+'?Driver={SQL SERVER}')"
   ]
  },
  {
   "cell_type": "code",
   "execution_count": 4,
   "id": "c846ab8c",
   "metadata": {},
   "outputs": [],
   "source": [
    "sql_produto = \"\"\" SELECT ProductID,\n",
    "      Name as produto,\n",
    "      Color,\n",
    "      ProductSubcategoryID,\n",
    "      ProductModelID\n",
    "      \n",
    "  FROM [dbo].[PRODUCTION.PRODUCT]\n",
    "\"\"\""
   ]
  },
  {
   "cell_type": "code",
   "execution_count": 5,
   "id": "f4b20ac5",
   "metadata": {},
   "outputs": [],
   "source": [
    "df_produto = pd.read_sql(sql_produto,con = conexao)"
   ]
  },
  {
   "cell_type": "code",
   "execution_count": 6,
   "id": "ed446b82",
   "metadata": {},
   "outputs": [],
   "source": [
    "sql_produto_model = \"\"\"\n",
    "SELECT ProductModelID\n",
    "      ,Name as modelo\n",
    "      \n",
    "  FROM dbo.PRODUCT_MODEL\"\"\""
   ]
  },
  {
   "cell_type": "code",
   "execution_count": 7,
   "id": "367dca5e",
   "metadata": {},
   "outputs": [],
   "source": [
    "df_produto_model = pd.read_sql(sql_produto,con = conexao)"
   ]
  },
  {
   "cell_type": "code",
   "execution_count": 8,
   "id": "f0a01f5f",
   "metadata": {},
   "outputs": [],
   "source": [
    "sql_categoria = \"\"\" SELECT ProductCategoryID\n",
    "      ,Name as categoria\n",
    "  FROM dbo.PRODUCTIONCATEGORY\"\"\""
   ]
  },
  {
   "cell_type": "code",
   "execution_count": 9,
   "id": "7bd05d5c",
   "metadata": {},
   "outputs": [],
   "source": [
    "df_categoria = pd.read_sql(sql_categoria,con = conexao)"
   ]
  },
  {
   "cell_type": "code",
   "execution_count": 10,
   "id": "2ff22e42",
   "metadata": {},
   "outputs": [],
   "source": [
    "sql_subcategoria = \"\"\"SELECT ProductSubcategoryID\n",
    "      ,ProductCategoryID\n",
    "      ,Name as subcategoria\n",
    "  FROM dbo.SUBCATEGORIA\"\"\""
   ]
  },
  {
   "cell_type": "code",
   "execution_count": 11,
   "id": "d695f395",
   "metadata": {},
   "outputs": [],
   "source": [
    "df_subcategoria = pd.read_sql(sql_subcategoria,con = conexao)"
   ]
  },
  {
   "cell_type": "code",
   "execution_count": 12,
   "id": "fe267e21",
   "metadata": {},
   "outputs": [],
   "source": [
    "df_produto = sqldf(\"\"\" select *  from df_produto p\n",
    "                        inner join df_subcategoria s\n",
    "                        on p.ProductSubcategoryID = s.ProductSubcategoryID\n",
    "                   \"\"\")"
   ]
  },
  {
   "cell_type": "code",
   "execution_count": 13,
   "id": "7ecbab25",
   "metadata": {},
   "outputs": [],
   "source": [
    "del df_subcategoria"
   ]
  },
  {
   "cell_type": "code",
   "execution_count": 14,
   "id": "519fb391",
   "metadata": {},
   "outputs": [],
   "source": [
    "df_produto = sqldf(\"\"\" select * from df_produto p\n",
    "                        inner join df_categoria c\n",
    "                        on p.ProductCategoryID = c.ProductCategoryID\n",
    "                   \"\"\")"
   ]
  },
  {
   "cell_type": "code",
   "execution_count": 15,
   "id": "e5c9b2ab",
   "metadata": {},
   "outputs": [],
   "source": [
    "del df_categoria"
   ]
  },
  {
   "cell_type": "code",
   "execution_count": 16,
   "id": "9ec3862f",
   "metadata": {},
   "outputs": [],
   "source": [
    "df_produto = sqldf(\"\"\" select p.produto,p.Color,p.subcategoria,p.categoria from df_produto p\n",
    "                        inner join df_produto_model m\n",
    "                        on p.ProductModelID = m.ProductModelID\n",
    "                   \"\"\")"
   ]
  },
  {
   "cell_type": "code",
   "execution_count": 17,
   "id": "77f89343",
   "metadata": {},
   "outputs": [],
   "source": [
    "df_produto = df_produto[['produto','Color','subcategoria','categoria']]"
   ]
  },
  {
   "cell_type": "code",
   "execution_count": 18,
   "id": "aff658a6",
   "metadata": {},
   "outputs": [],
   "source": [
    "df_produtos = df_produto.rename(columns={'ProductID' :'codigo_produto','Name':'nome_produto','Color':'Cor'})"
   ]
  },
  {
   "cell_type": "code",
   "execution_count": 19,
   "id": "aee91383",
   "metadata": {},
   "outputs": [
    {
     "data": {
      "text/html": [
       "<div>\n",
       "<style scoped>\n",
       "    .dataframe tbody tr th:only-of-type {\n",
       "        vertical-align: middle;\n",
       "    }\n",
       "\n",
       "    .dataframe tbody tr th {\n",
       "        vertical-align: top;\n",
       "    }\n",
       "\n",
       "    .dataframe thead th {\n",
       "        text-align: right;\n",
       "    }\n",
       "</style>\n",
       "<table border=\"1\" class=\"dataframe\">\n",
       "  <thead>\n",
       "    <tr style=\"text-align: right;\">\n",
       "      <th></th>\n",
       "      <th>produto</th>\n",
       "      <th>Color</th>\n",
       "      <th>subcategoria</th>\n",
       "      <th>categoria</th>\n",
       "    </tr>\n",
       "  </thead>\n",
       "  <tbody>\n",
       "    <tr>\n",
       "      <th>0</th>\n",
       "      <td>HL Road Frame - Black, 58</td>\n",
       "      <td>Black</td>\n",
       "      <td>Road Frames</td>\n",
       "      <td>Components</td>\n",
       "    </tr>\n",
       "    <tr>\n",
       "      <th>1</th>\n",
       "      <td>HL Road Frame - Black, 58</td>\n",
       "      <td>Black</td>\n",
       "      <td>Road Frames</td>\n",
       "      <td>Components</td>\n",
       "    </tr>\n",
       "    <tr>\n",
       "      <th>2</th>\n",
       "      <td>HL Road Frame - Black, 58</td>\n",
       "      <td>Black</td>\n",
       "      <td>Road Frames</td>\n",
       "      <td>Components</td>\n",
       "    </tr>\n",
       "    <tr>\n",
       "      <th>3</th>\n",
       "      <td>HL Road Frame - Black, 58</td>\n",
       "      <td>Black</td>\n",
       "      <td>Road Frames</td>\n",
       "      <td>Components</td>\n",
       "    </tr>\n",
       "    <tr>\n",
       "      <th>4</th>\n",
       "      <td>HL Road Frame - Black, 58</td>\n",
       "      <td>Black</td>\n",
       "      <td>Road Frames</td>\n",
       "      <td>Components</td>\n",
       "    </tr>\n",
       "    <tr>\n",
       "      <th>...</th>\n",
       "      <td>...</td>\n",
       "      <td>...</td>\n",
       "      <td>...</td>\n",
       "      <td>...</td>\n",
       "    </tr>\n",
       "    <tr>\n",
       "      <th>1636</th>\n",
       "      <td>Road-750 Black, 48</td>\n",
       "      <td>Black</td>\n",
       "      <td>Road Bikes</td>\n",
       "      <td>Bikes</td>\n",
       "    </tr>\n",
       "    <tr>\n",
       "      <th>1637</th>\n",
       "      <td>Road-750 Black, 52</td>\n",
       "      <td>Black</td>\n",
       "      <td>Road Bikes</td>\n",
       "      <td>Bikes</td>\n",
       "    </tr>\n",
       "    <tr>\n",
       "      <th>1638</th>\n",
       "      <td>Road-750 Black, 52</td>\n",
       "      <td>Black</td>\n",
       "      <td>Road Bikes</td>\n",
       "      <td>Bikes</td>\n",
       "    </tr>\n",
       "    <tr>\n",
       "      <th>1639</th>\n",
       "      <td>Road-750 Black, 52</td>\n",
       "      <td>Black</td>\n",
       "      <td>Road Bikes</td>\n",
       "      <td>Bikes</td>\n",
       "    </tr>\n",
       "    <tr>\n",
       "      <th>1640</th>\n",
       "      <td>Road-750 Black, 52</td>\n",
       "      <td>Black</td>\n",
       "      <td>Road Bikes</td>\n",
       "      <td>Bikes</td>\n",
       "    </tr>\n",
       "  </tbody>\n",
       "</table>\n",
       "<p>1641 rows × 4 columns</p>\n",
       "</div>"
      ],
      "text/plain": [
       "                        produto  Color subcategoria   categoria\n",
       "0     HL Road Frame - Black, 58  Black  Road Frames  Components\n",
       "1     HL Road Frame - Black, 58  Black  Road Frames  Components\n",
       "2     HL Road Frame - Black, 58  Black  Road Frames  Components\n",
       "3     HL Road Frame - Black, 58  Black  Road Frames  Components\n",
       "4     HL Road Frame - Black, 58  Black  Road Frames  Components\n",
       "...                         ...    ...          ...         ...\n",
       "1636         Road-750 Black, 48  Black   Road Bikes       Bikes\n",
       "1637         Road-750 Black, 52  Black   Road Bikes       Bikes\n",
       "1638         Road-750 Black, 52  Black   Road Bikes       Bikes\n",
       "1639         Road-750 Black, 52  Black   Road Bikes       Bikes\n",
       "1640         Road-750 Black, 52  Black   Road Bikes       Bikes\n",
       "\n",
       "[1641 rows x 4 columns]"
      ]
     },
     "execution_count": 19,
     "metadata": {},
     "output_type": "execute_result"
    }
   ],
   "source": [
    "df_produto"
   ]
  },
  {
   "cell_type": "code",
   "execution_count": null,
   "id": "6a56741a",
   "metadata": {},
   "outputs": [],
   "source": []
  }
 ],
 "metadata": {
  "kernelspec": {
   "display_name": "Python 3 (ipykernel)",
   "language": "python",
   "name": "python3"
  },
  "language_info": {
   "codemirror_mode": {
    "name": "ipython",
    "version": 3
   },
   "file_extension": ".py",
   "mimetype": "text/x-python",
   "name": "python",
   "nbconvert_exporter": "python",
   "pygments_lexer": "ipython3",
   "version": "3.9.7"
  }
 },
 "nbformat": 4,
 "nbformat_minor": 5
}
